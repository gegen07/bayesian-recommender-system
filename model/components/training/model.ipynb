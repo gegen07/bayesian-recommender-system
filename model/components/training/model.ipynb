{
 "cells": [
  {
   "cell_type": "code",
   "execution_count": 1,
   "metadata": {},
   "outputs": [],
   "source": [
    "import arviz as az\n",
    "import matplotlib.pyplot as plt\n",
    "import numpy as np\n",
    "import pandas as pd\n",
    "import pymc as pm\n",
    "import xarray as xr"
   ]
  },
  {
   "cell_type": "code",
   "execution_count": 2,
   "metadata": {},
   "outputs": [],
   "source": [
    "RANDOM_SEED = 8927\n",
    "rng = np.random.default_rng(RANDOM_SEED)\n",
    "az.style.use(\"arviz-darkgrid\")"
   ]
  },
  {
   "cell_type": "code",
   "execution_count": 3,
   "metadata": {},
   "outputs": [],
   "source": [
    "from pmf import PMF"
   ]
  },
  {
   "cell_type": "code",
   "execution_count": 4,
   "metadata": {},
   "outputs": [],
   "source": [
    "import cloudpickle\n",
    "with open('/home/gegen07/dev/projects/bayesian-recommendation-system/model/data/output-model.pkl', \"rb\") as f:\n",
    "    model = cloudpickle.load(f)"
   ]
  },
  {
   "cell_type": "code",
   "execution_count": 5,
   "metadata": {},
   "outputs": [
    {
     "name": "stderr",
     "output_type": "stream",
     "text": [
      "INFO:root:finding PMF MAP using L-BFGS-B optimization...\n"
     ]
    },
    {
     "data": {
      "application/vnd.jupyter.widget-view+json": {
       "model_id": "10275b12d0da4c92b7f53e40125688e9",
       "version_major": 2,
       "version_minor": 0
      },
      "text/plain": [
       "Output()"
      ]
     },
     "metadata": {},
     "output_type": "display_data"
    },
    {
     "data": {
      "text/html": [
       "<pre style=\"white-space:pre;overflow-x:auto;line-height:normal;font-family:Menlo,'DejaVu Sans Mono',consolas,'Courier New',monospace\">\n",
       "</pre>\n"
      ],
      "text/plain": [
       "\n"
      ]
     },
     "metadata": {},
     "output_type": "display_data"
    },
    {
     "data": {
      "text/html": [
       "<pre style=\"white-space:pre;overflow-x:auto;line-height:normal;font-family:Menlo,'DejaVu Sans Mono',consolas,'Courier New',monospace\"></pre>\n"
      ],
      "text/plain": []
     },
     "metadata": {},
     "output_type": "display_data"
    },
    {
     "name": "stderr",
     "output_type": "stream",
     "text": [
      "INFO:root:found PMF MAP in 48 seconds\n"
     ]
    },
    {
     "data": {
      "text/plain": [
       "{'U': array([[-1.61677009, -0.10329805, -0.7105108 , ..., -0.27195377,\n",
       "         -0.37213856,  0.00300477],\n",
       "        [-1.12565369,  0.44025088, -0.52785288, ..., -0.37618589,\n",
       "         -0.80581501, -0.28087509],\n",
       "        [-0.35113996,  0.41988693, -0.82032737, ..., -0.77112285,\n",
       "         -0.15594442, -0.70028274],\n",
       "        ...,\n",
       "        [-0.56239968,  0.46648893, -0.5329391 , ..., -0.54409196,\n",
       "         -0.52149414, -0.34769048],\n",
       "        [-0.97848874,  0.88054022, -0.51001781, ..., -0.83064178,\n",
       "         -1.28526056,  0.00532966],\n",
       "        [ 0.21297496,  1.17638504, -0.79586537, ..., -1.51245684,\n",
       "         -0.26117105, -0.59894366]]),\n",
       " 'V': array([[-0.51267144,  1.09204949, -0.3937785 , ..., -0.62183852,\n",
       "         -0.62463375, -0.05254462],\n",
       "        [-0.78904027,  0.9506828 , -0.30455387, ..., -0.22243624,\n",
       "         -0.56626165, -0.10350165],\n",
       "        [-1.02423181,  0.35751983, -0.55184593, ..., -0.86114078,\n",
       "         -0.35356922,  0.12985268],\n",
       "        ...,\n",
       "        [-0.01786429,  0.05184986, -0.14031241, ..., -0.21186792,\n",
       "         -0.08451609, -0.08767036],\n",
       "        [-0.1954495 ,  0.11049474, -0.0729168 , ..., -0.19782523,\n",
       "         -0.17728695,  0.23540247],\n",
       "        [-0.33066928, -0.03192699, -0.10939897, ..., -0.25405371,\n",
       "         -0.13449508, -0.07818986]])}"
      ]
     },
     "execution_count": 5,
     "metadata": {},
     "output_type": "execute_result"
    }
   ],
   "source": [
    "model.find_map()"
   ]
  },
  {
   "cell_type": "code",
   "execution_count": 11,
   "metadata": {},
   "outputs": [
    {
     "data": {
      "text/plain": [
       "array([[-1.61677009, -0.10329805, -0.7105108 , ..., -0.27195377,\n",
       "        -0.37213856,  0.00300477],\n",
       "       [-1.12565369,  0.44025088, -0.52785288, ..., -0.37618589,\n",
       "        -0.80581501, -0.28087509],\n",
       "       [-0.35113996,  0.41988693, -0.82032737, ..., -0.77112285,\n",
       "        -0.15594442, -0.70028274],\n",
       "       ...,\n",
       "       [-0.56239968,  0.46648893, -0.5329391 , ..., -0.54409196,\n",
       "        -0.52149414, -0.34769048],\n",
       "       [-0.97848874,  0.88054022, -0.51001781, ..., -0.83064178,\n",
       "        -1.28526056,  0.00532966],\n",
       "       [ 0.21297496,  1.17638504, -0.79586537, ..., -1.51245684,\n",
       "        -0.26117105, -0.59894366]])"
      ]
     },
     "execution_count": 11,
     "metadata": {},
     "output_type": "execute_result"
    }
   ],
   "source": [
    "model._map['U']"
   ]
  }
 ],
 "metadata": {
  "kernelspec": {
   "display_name": "Python 3",
   "language": "python",
   "name": "python3"
  },
  "language_info": {
   "codemirror_mode": {
    "name": "ipython",
    "version": 3
   },
   "file_extension": ".py",
   "mimetype": "text/x-python",
   "name": "python",
   "nbconvert_exporter": "python",
   "pygments_lexer": "ipython3",
   "version": "3.12.7"
  }
 },
 "nbformat": 4,
 "nbformat_minor": 2
}
